{
 "cells": [
  {
   "cell_type": "code",
   "execution_count": null,
   "id": "51a58bf2",
   "metadata": {},
   "outputs": [],
   "source": [
    "collection = ee.ImageCollection(\"USGS/NLCD\")\n",
    "print(collection.aggregate_array('system:id').getInfo())          #获取影像集的所有影像的名称"
   ]
  }
 ],
 "metadata": {
  "kernelspec": {
   "display_name": "Python 3 (ipykernel)",
   "language": "python",
   "name": "python3"
  },
  "language_info": {
   "codemirror_mode": {
    "name": "ipython",
    "version": 3
   },
   "file_extension": ".py",
   "mimetype": "text/x-python",
   "name": "python",
   "nbconvert_exporter": "python",
   "pygments_lexer": "ipython3",
   "version": "3.9.7"
  }
 },
 "nbformat": 4,
 "nbformat_minor": 5
}
