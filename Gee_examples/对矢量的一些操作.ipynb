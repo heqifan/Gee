{
 "cells": [
  {
   "cell_type": "code",
   "execution_count": null,
   "id": "046cb19c",
   "metadata": {},
   "outputs": [],
   "source": [
    "feature = Map.draw_last_feature  #在执行此代码块之前，使用绘图工具在底图上绘制任何形状，后将其转为矢量"
   ]
  },
  {
   "cell_type": "code",
   "execution_count": null,
   "id": "38da0c3f",
   "metadata": {},
   "outputs": [],
   "source": [
    "geom = ee.Geometry.Polygon([[[-115.413031, 35.889467],         #绘制面\n",
    "    [-115.413031, 36.543157],\n",
    "    [-114.034328, 36.543157],\n",
    "    [-114.034328, 35.889467],\n",
    "    [-115.413031, 35.889467]]])\n",
    "\n",
    "feature = ee.Feature(geom, {})   #将面转为矢量"
   ]
  },
  {
   "cell_type": "code",
   "execution_count": null,
   "id": "f94b8335",
   "metadata": {},
   "outputs": [],
   "source": [
    "loc = ee.Geometry.Point(-99.2222, 46.7816)  #绘制点"
   ]
  },
  {
   "cell_type": "code",
   "execution_count": null,
   "id": "9b0f5d13",
   "metadata": {},
   "outputs": [],
   "source": [
    "roi = feature.geometry()  #获取矢量的范围"
   ]
  },
  {
   "cell_type": "code",
   "execution_count": null,
   "id": "344ba25c",
   "metadata": {},
   "outputs": [],
   "source": [
    "Map.draw_features   #获取用户所画的所有矢量"
   ]
  },
  {
   "cell_type": "code",
   "execution_count": null,
   "id": "fe54b043",
   "metadata": {},
   "outputs": [],
   "source": [
    "roi = ee.FeatureCollection(Map.draw_features)        #转换为矢量集\n",
    "selected_states = states.filterBounds(roi)             #模糊的裁剪，过滤出来的影像由卫星拍出的影像的大小和用户自己绘的有关，我是这么理解的\n",
    "Map.addLayer(selected_states, {}, \"Selected states\")  "
   ]
  },
  {
   "cell_type": "code",
   "execution_count": null,
   "id": "a7071941",
   "metadata": {},
   "outputs": [],
   "source": [
    "clipped_image = image.clip(selected_states)             #精确的裁剪\n",
    "Map.addLayer(clipped_image, vis_params, 'Clipped image')"
   ]
  }
 ],
 "metadata": {
  "kernelspec": {
   "display_name": "Python 3 (ipykernel)",
   "language": "python",
   "name": "python3"
  },
  "language_info": {
   "codemirror_mode": {
    "name": "ipython",
    "version": 3
   },
   "file_extension": ".py",
   "mimetype": "text/x-python",
   "name": "python",
   "nbconvert_exporter": "python",
   "pygments_lexer": "ipython3",
   "version": "3.9.7"
  }
 },
 "nbformat": 4,
 "nbformat_minor": 5
}
