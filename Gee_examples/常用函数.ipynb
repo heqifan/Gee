{
 "cells": [
  {
   "cell_type": "code",
   "execution_count": null,
   "id": "27fe633b",
   "metadata": {},
   "outputs": [],
   "source": [
    "image.mask()  #会将影像的掩膜区域与非掩膜区域用0和1区分开来，其中1代表为掩膜，0代表未掩膜。"
   ]
  },
  {
   "cell_type": "code",
   "execution_count": null,
   "id": "606eb49c",
   "metadata": {},
   "outputs": [],
   "source": [
    "image.unmask(number)  #unmask的作用在于它可以将掩膜掉的区域影像值替换为任意值，而未掩膜的区域保持原值。"
   ]
  },
  {
   "cell_type": "code",
   "execution_count": null,
   "id": "c99949e2",
   "metadata": {},
   "outputs": [],
   "source": [
    "image.updateMask()#updateMask会将影像上为0的区域掩膜掉       "
   ]
  },
  {
   "cell_type": "code",
   "execution_count": null,
   "id": "83c3669b",
   "metadata": {},
   "outputs": [],
   "source": [
    "image2.updateMask(image1.mask().not())#某一景影像与另一景影像具有相同的掩膜            "
   ]
  },
  {
   "cell_type": "code",
   "execution_count": null,
   "id": "cc2be0fa",
   "metadata": {},
   "outputs": [],
   "source": [
    "#以上具体参考：https://blog.csdn.net/SunStrongInChina/article/details/110388401"
   ]
  },
  {
   "cell_type": "code",
   "execution_count": null,
   "id": "6504f4dc",
   "metadata": {},
   "outputs": [],
   "source": [
    "rgb_img = geemap.ee_to_numpy(img, region = aoi)   #将影像转换为数组\n",
    "print(rgb_img.shape)"
   ]
  },
  {
   "cell_type": "code",
   "execution_count": null,
   "id": "99e973d1",
   "metadata": {},
   "outputs": [],
   "source": []
  }
 ],
 "metadata": {
  "kernelspec": {
   "display_name": "Python 3 (ipykernel)",
   "language": "python",
   "name": "python3"
  },
  "language_info": {
   "codemirror_mode": {
    "name": "ipython",
    "version": 3
   },
   "file_extension": ".py",
   "mimetype": "text/x-python",
   "name": "python",
   "nbconvert_exporter": "python",
   "pygments_lexer": "ipython3",
   "version": "3.9.7"
  }
 },
 "nbformat": 4,
 "nbformat_minor": 5
}
