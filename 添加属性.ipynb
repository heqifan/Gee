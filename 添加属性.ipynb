{
 "cells": [
  {
   "cell_type": "code",
   "execution_count": null,
   "id": "55c2197c",
   "metadata": {},
   "outputs": [],
   "source": [
    "import ee\n",
    "import geemap\n",
    "\n",
    "Map = geemap.Map()\n",
    "\n",
    "geometry = ee.Geometry.Point([-104.78007812499999, 37.07682857623016])\n",
    "l8Img = ee.ImageCollection(\"LANDSAT/LC08/C01/T1_RT_TOA\") \\\n",
    "              .filterDate(\"2018-2-1\", \"2018-10-1\") \\\n",
    "              .filterBounds(geometry) \\\n",
    "              .first()\n",
    "print(\"img1\", l8Img)\n",
    "time_start = l8Img.get(\"system:time_start\")\n",
    "year = ee.Date(time_start).get(\"year\")\n",
    "\n",
    "l8Img.set(\"year\", year)\n",
    "print(\"img2\", l8Img)\n",
    "\n",
    "l8Img = l8Img.set(\"year\", year)\n",
    "print(\"img3\", l8Img)\n",
    "Map"
   ]
  }
 ],
 "metadata": {
  "kernelspec": {
   "display_name": "Python 3 (ipykernel)",
   "language": "python",
   "name": "python3"
  },
  "language_info": {
   "codemirror_mode": {
    "name": "ipython",
    "version": 3
   },
   "file_extension": ".py",
   "mimetype": "text/x-python",
   "name": "python",
   "nbconvert_exporter": "python",
   "pygments_lexer": "ipython3",
   "version": "3.9.7"
  }
 },
 "nbformat": 4,
 "nbformat_minor": 5
}
