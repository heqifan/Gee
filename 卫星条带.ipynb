{
 "cells": [
  {
   "cell_type": "code",
   "execution_count": 1,
   "metadata": {},
   "outputs": [],
   "source": [
    "import geemap\n",
    "import ee\n",
    "Map = geemap.Map()\n",
    "Map\n",
    "import pandas as pd"
   ]
  },
  {
   "cell_type": "code",
   "execution_count": 2,
   "metadata": {},
   "outputs": [],
   "source": [
    "roi = ee.FeatureCollection(\"users/yehuigeo/poyanghu\")"
   ]
  },
  {
   "cell_type": "code",
   "execution_count": 3,
   "metadata": {},
   "outputs": [],
   "source": [
    "def ND_VI(image,b1,b2,bName):  \n",
    "    VI = image.normalizedDifference([b1,b2]).rename(bName)\n",
    "    return VI.updateMask(VI.gt(-1).And(VI.lt(1)))\n",
    "#这里对大于-1小于1的像元进行掩膜\n",
    "\n",
    "#定义计算哨兵二号的EVI指数的函数\n",
    "def funEVI(image,a,b,c):   \n",
    "    VI = image.expression(\n",
    "        '2.5 * ((NIR - RED) / (NIR + 6 * RED - 7.5 * BLUE + 1))', {\n",
    "      'BLUE': image.select(a),   \n",
    "      'RED': image.select(b),   \n",
    "      'NIR': image.select(c)}).rename('EVI')\n",
    "    return VI.updateMask(VI.gt(-1).And(VI.lt(1)))\n",
    "#定义添加波段的函数\n",
    "def addLandsatVIs(img):\n",
    "    NDVI = ND_VI(img,'B8','B4','NDVI')\n",
    "    EVI = funEVI(img,'B2','B4','B8')\n",
    "    mNDWI = ND_VI(img,'B3','B6','mNDWI')\n",
    "    return img.addBands(NDVI).addBands(EVI).addBands(mNDWI)\n",
    "    # 水提取 MNDWI > NDVI或MNDWI > EVI 和 EVI < 0.1"
   ]
  },
  {
   "cell_type": "code",
   "execution_count": 4,
   "metadata": {},
   "outputs": [],
   "source": [
    "collection5 = ee.ImageCollection('LANDSAT/LT05/C01/T1_SR')\n",
    "collection7 = ee.ImageCollection('LANDSAT/LE07/C01/T1_SR')\n",
    "collection8 = ee.ImageCollection('LANDSAT/LC08/C01/T1_SR')"
   ]
  },
  {
   "cell_type": "code",
   "execution_count": 15,
   "metadata": {
    "scrolled": false
   },
   "outputs": [
    {
     "name": "stdout",
     "output_type": "stream",
     "text": [
      "0\n",
      "12139.0    16\n",
      "12140.0    14\n",
      "12239.0    14\n",
      "12240.0    12\n",
      "dtype: int64\n",
      "0\n",
      "12139.0    18\n",
      "12140.0    12\n",
      "12239.0    15\n",
      "12240.0    11\n",
      "dtype: int64\n",
      "0\n",
      "12139.0    17\n",
      "12140.0    13\n",
      "12239.0    11\n",
      "12240.0    15\n",
      "dtype: int64\n",
      "0\n",
      "12139.0    16\n",
      "12140.0    14\n",
      "12239.0    18\n",
      "12240.0     8\n",
      "dtype: int64\n",
      "0\n",
      "12139.0    15\n",
      "12140.0    15\n",
      "12239.0    19\n",
      "12240.0     7\n",
      "dtype: int64\n",
      "0\n",
      "12139.0    18\n",
      "12140.0    12\n",
      "12239.0    13\n",
      "12240.0    13\n",
      "dtype: int64\n",
      "0\n",
      "12139    16\n",
      "12140    14\n",
      "12239    14\n",
      "12240    12\n",
      "dtype: int64\n",
      "0\n",
      "12139.0    18\n",
      "12140.0    12\n",
      "12239.0     2\n",
      "12240.0    11\n",
      "dtype: int64\n"
     ]
    }
   ],
   "source": [
    "for year in range(2013,2021):\n",
    "    START_DATE = f'{year}'\n",
    "    END_DATE = f'{year + 1}'\n",
    "    collection5 = ee.ImageCollection('LANDSAT/LC08/C01/T1_SR') .filterBounds(roi).filterDate(START_DATE, END_DATE ).select(['B1', 'B2', 'B3', 'B4', 'B5', 'B7','pixel_qa']).map(addLandsatVIs)   \n",
    "    #print(collection5.aggregate_array('WRS_PATH').getInfo())\n",
    "    pa = pd.DataFrame(collection5.aggregate_array('WRS_PATH').getInfo())      # aggregate_array为获取属性的意思  # pd.dataframe为将属性和属性值转换为dataframe的意思\n",
    "    #print(pa)\n",
    "    path1 = path * 100                \n",
    "    row = pd.DataFrame(collection5.aggregate_array('WRS_ROW').getInfo())       \n",
    "    #add的意思是将path1与row相加                  \n",
    "    merge = path1.add(row)                \n",
    "    #groupby的意思是将dartaframe根据条带来分组第0列为条带号）\n",
    "    #print(merge)         \n",
    "    a = merge.groupby([0])         \n",
    "    #size为对groupby对象计算矩阵数量\n",
    "    df1 = a.size()\n",
    "    print(df1)\n",
    "    \n",
    "    #print(collection5.size().getInfo())\n",
    "    #最后一步其实是没必要的，但是可以拿来检验\n",
    "    "
   ]
  },
  {
   "cell_type": "code",
   "execution_count": null,
   "metadata": {},
   "outputs": [],
   "source": []
  }
 ],
 "metadata": {
  "kernelspec": {
   "display_name": "Python 3 (ipykernel)",
   "language": "python",
   "name": "python3"
  },
  "language_info": {
   "codemirror_mode": {
    "name": "ipython",
    "version": 3
   },
   "file_extension": ".py",
   "mimetype": "text/x-python",
   "name": "python",
   "nbconvert_exporter": "python",
   "pygments_lexer": "ipython3",
   "version": "3.9.7"
  }
 },
 "nbformat": 4,
 "nbformat_minor": 4
}
