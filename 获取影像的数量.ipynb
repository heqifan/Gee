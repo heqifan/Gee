{
 "cells": [
  {
   "cell_type": "code",
   "execution_count": 30,
   "id": "bf4adbbc",
   "metadata": {},
   "outputs": [
    {
     "data": {
      "application/vnd.jupyter.widget-view+json": {
       "model_id": "44a687cdefaf48078540f0f35334aa86",
       "version_major": 2,
       "version_minor": 0
      },
      "text/plain": [
       "Map(center=[40, -100], controls=(WidgetControl(options=['position', 'transparent_bg'], widget=HBox(children=(T…"
      ]
     },
     "metadata": {},
     "output_type": "display_data"
    }
   ],
   "source": [
    "import pandas as pd\n",
    "import geemap\n",
    "import ee\n",
    "Map = geemap.Map()\n",
    "Map"
   ]
  },
  {
   "cell_type": "code",
   "execution_count": 2,
   "id": "ab6b6960",
   "metadata": {},
   "outputs": [],
   "source": [
    "roi = ee.FeatureCollection(\"users/yehuigeo/poyanghu\")\n"
   ]
  },
  {
   "cell_type": "code",
   "execution_count": 27,
   "id": "ac6dfdd6",
   "metadata": {},
   "outputs": [],
   "source": [
    "collection5 = ee.ImageCollection('LANDSAT/LT05/C01/T1_SR')\n",
    "collection7 = ee.ImageCollection('LANDSAT/LE07/C01/T1_SR') \n",
    "collection8 = ee.ImageCollection('LANDSAT/LC08/C01/T1_SR') \n",
    "collections = [collection5,collection7,collection8]"
   ]
  },
  {
   "cell_type": "code",
   "execution_count": 28,
   "id": "753a8814",
   "metadata": {},
   "outputs": [],
   "source": [
    "path5 = r'C:\\Users\\树风\\Desktop\\seaborn\\seaborn数据\\size5.csv'\n",
    "path7 = r'C:\\Users\\树风\\Desktop\\seaborn\\seaborn数据\\size7.csv'\n",
    "path8 = r'C:\\Users\\树风\\Desktop\\seaborn\\seaborn数据\\size8.csv'"
   ]
  },
  {
   "cell_type": "code",
   "execution_count": 29,
   "id": "07c9d535",
   "metadata": {},
   "outputs": [],
   "source": [
    "paths = [path5,path7,path8]"
   ]
  },
  {
   "cell_type": "code",
   "execution_count": 33,
   "id": "4cd70682",
   "metadata": {
    "scrolled": false
   },
   "outputs": [
    {
     "ename": "IndexError",
     "evalue": "list assignment index out of range",
     "output_type": "error",
     "traceback": [
      "\u001b[1;31m---------------------------------------------------------------------------\u001b[0m",
      "\u001b[1;31mIndexError\u001b[0m                                Traceback (most recent call last)",
      "\u001b[1;32mC:\\WINDOWS\\TEMP/ipykernel_21340/883343438.py\u001b[0m in \u001b[0;36m<module>\u001b[1;34m\u001b[0m\n\u001b[0;32m     10\u001b[0m         \u001b[0mcollection_size\u001b[0m \u001b[1;33m=\u001b[0m \u001b[0mee\u001b[0m\u001b[1;33m.\u001b[0m\u001b[0mImageCollection\u001b[0m\u001b[1;33m(\u001b[0m\u001b[1;34m'LANDSAT/LT05/C01/T1_SR'\u001b[0m\u001b[1;33m)\u001b[0m\u001b[1;33m.\u001b[0m\u001b[0mfilterDate\u001b[0m\u001b[1;33m(\u001b[0m\u001b[0mSTART_DATE\u001b[0m\u001b[1;33m,\u001b[0m \u001b[0mEND_DATE\u001b[0m \u001b[1;33m)\u001b[0m\u001b[1;33m\u001b[0m\u001b[1;33m\u001b[0m\u001b[0m\n\u001b[0;32m     11\u001b[0m         \u001b[0msize\u001b[0m \u001b[1;33m=\u001b[0m \u001b[0mcollection_size\u001b[0m\u001b[1;33m.\u001b[0m\u001b[0msize\u001b[0m\u001b[1;33m(\u001b[0m\u001b[1;33m)\u001b[0m\u001b[1;33m.\u001b[0m\u001b[0mgetInfo\u001b[0m\u001b[1;33m(\u001b[0m\u001b[1;33m)\u001b[0m\u001b[1;33m\u001b[0m\u001b[1;33m\u001b[0m\u001b[0m\n\u001b[1;32m---> 12\u001b[1;33m         \u001b[0mlis1\u001b[0m\u001b[1;33m[\u001b[0m\u001b[1;36m0\u001b[0m\u001b[1;33m]\u001b[0m\u001b[1;33m=\u001b[0m\u001b[0myear\u001b[0m\u001b[1;33m,\u001b[0m\u001b[0mlis1\u001b[0m\u001b[1;33m[\u001b[0m\u001b[1;36m1\u001b[0m\u001b[1;33m]\u001b[0m\u001b[1;33m=\u001b[0m\u001b[0mmonth\u001b[0m\u001b[1;33m,\u001b[0m\u001b[0mlis1\u001b[0m\u001b[1;33m[\u001b[0m\u001b[1;36m2\u001b[0m\u001b[1;33m]\u001b[0m\u001b[1;33m=\u001b[0m\u001b[0msize\u001b[0m\u001b[1;33m\u001b[0m\u001b[1;33m\u001b[0m\u001b[0m\n\u001b[0m\u001b[0;32m     13\u001b[0m         \u001b[0mlis2\u001b[0m \u001b[1;33m=\u001b[0m \u001b[0mlis2\u001b[0m\u001b[1;33m.\u001b[0m\u001b[0mappend\u001b[0m\u001b[1;33m(\u001b[0m\u001b[0mlis1\u001b[0m\u001b[1;33m)\u001b[0m\u001b[1;33m\u001b[0m\u001b[1;33m\u001b[0m\u001b[0m\n\u001b[0;32m     14\u001b[0m         \u001b[0mprint\u001b[0m\u001b[1;33m(\u001b[0m\u001b[0mlis2\u001b[0m\u001b[1;33m)\u001b[0m\u001b[1;33m\u001b[0m\u001b[1;33m\u001b[0m\u001b[0m\n",
      "\u001b[1;31mIndexError\u001b[0m: list assignment index out of range"
     ]
    }
   ],
   "source": [
    "lis1 = []\n",
    "lis2 = []\n",
    "for year in range(1986,2021):\n",
    "    for month in range(1,13):\n",
    "        START_DATE = f'{year}-{month:0>2d}'\n",
    "        END_DATE = f'{year}-{month + 1:0>2d}'\n",
    "        if month == 12:\n",
    "            START_DATE = f'{year}-{12:0>2d}'\n",
    "            END_DATE = f'{year+1}-{1:0>2d}'\n",
    "        collection_size = ee.ImageCollection('LANDSAT/LT05/C01/T1_SR').filterDate(START_DATE, END_DATE )\n",
    "        size = collection_size.size().getInfo()\n",
    "        lis1[0]=year,lis1[1]=month,lis1[2]=size\n",
    "        lis2.append(lis1)       \n",
    "        print(lis2)\n",
    "        \n",
    "        \n"
   ]
  },
  {
   "cell_type": "code",
   "execution_count": null,
   "id": "679da1fb",
   "metadata": {},
   "outputs": [],
   "source": []
  }
 ],
 "metadata": {
  "kernelspec": {
   "display_name": "Python 3 (ipykernel)",
   "language": "python",
   "name": "python3"
  },
  "language_info": {
   "codemirror_mode": {
    "name": "ipython",
    "version": 3
   },
   "file_extension": ".py",
   "mimetype": "text/x-python",
   "name": "python",
   "nbconvert_exporter": "python",
   "pygments_lexer": "ipython3",
   "version": "3.9.7"
  }
 },
 "nbformat": 4,
 "nbformat_minor": 5
}
