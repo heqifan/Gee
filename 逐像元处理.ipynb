{
 "cells": [
  {
   "cell_type": "code",
   "execution_count": 3,
   "id": "ec2a6611",
   "metadata": {},
   "outputs": [
    {
     "data": {
      "application/vnd.jupyter.widget-view+json": {
       "model_id": "72e0c15821a2435eba549aa0edc9f95c",
       "version_major": 2,
       "version_minor": 0
      },
      "text/plain": [
       "Map(center=[40, -100], controls=(WidgetControl(options=['position', 'transparent_bg'], widget=HBox(children=(T…"
      ]
     },
     "metadata": {},
     "output_type": "display_data"
    }
   ],
   "source": [
    "import geemap\n",
    "import ee\n",
    "Map = geemap.Map()\n",
    "Map"
   ]
  },
  {
   "cell_type": "code",
   "execution_count": 7,
   "id": "84855782",
   "metadata": {},
   "outputs": [],
   "source": [
    "def clip(img):\n",
    "    return img.clip(roi)"
   ]
  },
  {
   "cell_type": "code",
   "execution_count": 11,
   "id": "bf3ce686",
   "metadata": {},
   "outputs": [],
   "source": [
    "roi = Map.draw_last_feature.geometry()"
   ]
  },
  {
   "cell_type": "code",
   "execution_count": 13,
   "id": "4c395295",
   "metadata": {},
   "outputs": [],
   "source": [
    "images = ee.ImageCollection(\"NASA/GIMMS/3GV0\").select('ndvi')\\\n",
    "        .filterDate('2012', '2013').map(clip)"
   ]
  },
  {
   "cell_type": "code",
   "execution_count": 15,
   "id": "388943c4",
   "metadata": {},
   "outputs": [],
   "source": [
    "visParam = {\n",
    " 'min': -1,\n",
    " 'max': 1,\n",
    " 'palette': ['000000', 'f5f5f5', '119701']\n",
    "}\n",
    "Map.addLayer(images, visParam, 'NDVI')"
   ]
  },
  {
   "cell_type": "code",
   "execution_count": 17,
   "id": "854a45bd",
   "metadata": {},
   "outputs": [],
   "source": [
    "img = images.toBands()\n",
    "ps = img.sample(region=roi, geometries=True)"
   ]
  },
  {
   "cell_type": "code",
   "execution_count": 19,
   "id": "7cb2f853",
   "metadata": {},
   "outputs": [
    {
     "data": {
      "text/plain": [
       "{'type': 'Feature',\n",
       " 'geometry': {'geodesic': False,\n",
       "  'type': 'Point',\n",
       "  'coordinates': [115.875, 29.708333333333336]},\n",
       " 'id': '0',\n",
       " 'properties': {'201201a_ndvi': 0.08299999684095383,\n",
       "  '201201b_ndvi': 0.06700000166893005,\n",
       "  '201202a_ndvi': 0.07500000298023224,\n",
       "  '201202b_ndvi': 0.09799999743700027,\n",
       "  '201203a_ndvi': 0.12399999797344208,\n",
       "  '201203b_ndvi': 0.14800000190734863,\n",
       "  '201204a_ndvi': 0.13500000536441803,\n",
       "  '201204b_ndvi': 0.35499998927116394,\n",
       "  '201205a_ndvi': 0.5509999990463257,\n",
       "  '201205b_ndvi': 0.5849999785423279,\n",
       "  '201206a_ndvi': 0.3659999966621399,\n",
       "  '201206b_ndvi': 0.4560000002384186,\n",
       "  '201207a_ndvi': 0.6460000276565552,\n",
       "  '201207b_ndvi': 0.6809999942779541,\n",
       "  '201208a_ndvi': 0.546999990940094,\n",
       "  '201208b_ndvi': 0.4429999887943268,\n",
       "  '201209a_ndvi': 0.5239999890327454,\n",
       "  '201209b_ndvi': 0.382999986410141,\n",
       "  '201210a_ndvi': 0.2800000011920929,\n",
       "  '201210b_ndvi': 0.17100000381469727,\n",
       "  '201211a_ndvi': 0.21400000154972076,\n",
       "  '201211b_ndvi': 0.17900000512599945,\n",
       "  '201212a_ndvi': 0.08699999749660492,\n",
       "  '201212b_ndvi': 0.08699999749660492}}"
      ]
     },
     "execution_count": 8,
     "metadata": {},
     "output_type": "execute_result"
    }
   ],
   "source": [
    "ps.first().getInfo()"
   ]
  },
  {
   "cell_type": "code",
   "execution_count": 21,
   "id": "50b8cccf",
   "metadata": {},
   "outputs": [],
   "source": [
    "Map.addLayer(ps, {}, 'ps')"
   ]
  },
  {
   "cell_type": "code",
   "execution_count": 23,
   "id": "a97b2e5c",
   "metadata": {},
   "outputs": [],
   "source": [
    "order = 2\n",
    "window_size = 11\n",
    "def savitzky_golay(y):\n",
    "    half_window = (window_size - 1) / 2\n",
    "    deriv = 0\n",
    "    order_range = ee.List.sequence(0, order)\n",
    "    k_range = ee.List.sequence(-half_window, half_window)\n",
    "    def fun1(k):\n",
    "        return order_range.map(lambda o: ee.Number(k).pow(o))\n",
    "    b = ee.Array(k_range.map(fun1))\n",
    "    mPI = ee.Array(b.matrixPseudoInverse())\n",
    "    impulse_response = (mPI.slice(**{'axis': 0, 'start': deriv, 'end': deriv + 1})).project([1])\n",
    "    y0 = y.get(0)\n",
    "    firstvals = y.slice(1, half_window + 1).reverse().map(\n",
    "        lambda e: ee.Number(e).subtract(y0).abs().multiply(-1).add(y0))\n",
    "    yend = y.get(-1)\n",
    "    lastvals = y.slice(-half_window - 1, -1).reverse().map(\n",
    "        lambda e: ee.Number(e).subtract(yend).abs().add(yend))\n",
    "    y_ext = firstvals.cat(y).cat(lastvals)\n",
    "    runLength = ee.List.sequence(0, y_ext.length().subtract(window_size))\n",
    "    smooth = runLength.map(\n",
    "        lambda i: ee.Array(y_ext.slice(ee.Number(i), ee.Number(i).add(window_size))).multiply(impulse_response).reduce(\"sum\", [0]).get([0])\n",
    "    )\n",
    "    return smooth"
   ]
  },
  {
   "cell_type": "code",
   "execution_count": 25,
   "id": "2db79adf",
   "metadata": {},
   "outputs": [],
   "source": [
    "def fun(feature):\n",
    "    List = bands.map(lambda i: feature.get(i))\n",
    "    sg_ = savitzky_golay(List)\n",
    "    return feature.set(ee.Dictionary.fromLists(bands_sg, sg_))"
   ]
  },
  {
   "cell_type": "code",
   "execution_count": 27,
   "id": "608b1d4b",
   "metadata": {},
   "outputs": [],
   "source": [
    "bands = img.bandNames()\n",
    "List = bands.map(lambda i: ps.first().get(i))"
   ]
  },
  {
   "cell_type": "code",
   "execution_count": 29,
   "id": "c30cc00f",
   "metadata": {},
   "outputs": [
    {
     "data": {
      "text/plain": [
       "['201201a_ndvi_sg',\n",
       " '201201b_ndvi_sg',\n",
       " '201202a_ndvi_sg',\n",
       " '201202b_ndvi_sg',\n",
       " '201203a_ndvi_sg',\n",
       " '201203b_ndvi_sg',\n",
       " '201204a_ndvi_sg',\n",
       " '201204b_ndvi_sg',\n",
       " '201205a_ndvi_sg',\n",
       " '201205b_ndvi_sg',\n",
       " '201206a_ndvi_sg',\n",
       " '201206b_ndvi_sg',\n",
       " '201207a_ndvi_sg',\n",
       " '201207b_ndvi_sg',\n",
       " '201208a_ndvi_sg',\n",
       " '201208b_ndvi_sg',\n",
       " '201209a_ndvi_sg',\n",
       " '201209b_ndvi_sg',\n",
       " '201210a_ndvi_sg',\n",
       " '201210b_ndvi_sg',\n",
       " '201211a_ndvi_sg',\n",
       " '201211b_ndvi_sg',\n",
       " '201212a_ndvi_sg',\n",
       " '201212b_ndvi_sg']"
      ]
     },
     "execution_count": 13,
     "metadata": {},
     "output_type": "execute_result"
    }
   ],
   "source": [
    "bands_sg = bands.map(lambda i: ee.String(i).cat('_sg'))\n",
    "bands_sg.getInfo()"
   ]
  },
  {
   "cell_type": "code",
   "execution_count": 379,
   "id": "30f4e7ac",
   "metadata": {},
   "outputs": [],
   "source": [
    "sg_ps = ps.map(fun)"
   ]
  },
  {
   "cell_type": "code",
   "execution_count": null,
   "id": "c0b4136d",
   "metadata": {
    "tags": []
   },
   "outputs": [],
   "source": [
    "img_sg = sg_ps.reduceToImage(properties=[bands_sg.get(-1)],\n",
    "                             reducer=ee.Reducer.mean())\\\n",
    "        .reproject(images.first().projection().crs(),\n",
    "                  images.first().projection().getInfo()['transform'])\n",
    "Map.addLayer(img_sg, visParam, 'sg')"
   ]
  },
  {
   "cell_type": "code",
   "execution_count": null,
   "id": "14d1d941",
   "metadata": {},
   "outputs": [],
   "source": [
    "sg_ps.first().getInfo()"
   ]
  },
  {
   "cell_type": "code",
   "execution_count": null,
   "id": "3dd1dd5f",
   "metadata": {},
   "outputs": [],
   "source": [
    "bands.get(0).cat('_sg').getInfo()"
   ]
  },
  {
   "cell_type": "code",
   "execution_count": null,
   "id": "42206f23",
   "metadata": {},
   "outputs": [],
   "source": [
    "a = ee.Array(ps.first().get('array')).toList()"
   ]
  },
  {
   "cell_type": "code",
   "execution_count": null,
   "id": "b8068ae6",
   "metadata": {},
   "outputs": [],
   "source": [
    "sg_ps.first().getInfo()"
   ]
  },
  {
   "cell_type": "code",
   "execution_count": null,
   "id": "fbd945ac",
   "metadata": {},
   "outputs": [],
   "source": [
    "from scipy.signal import savgol_filter"
   ]
  },
  {
   "cell_type": "code",
   "execution_count": null,
   "id": "4e5a7139",
   "metadata": {},
   "outputs": [],
   "source": []
  }
 ],
 "metadata": {
  "kernelspec": {
   "display_name": "Python 3 (ipykernel)",
   "language": "python",
   "name": "python3"
  },
  "language_info": {
   "codemirror_mode": {
    "name": "ipython",
    "version": 3
   },
   "file_extension": ".py",
   "mimetype": "text/x-python",
   "name": "python",
   "nbconvert_exporter": "python",
   "pygments_lexer": "ipython3",
   "version": "3.8.13"
  },
  "varInspector": {
   "cols": {
    "lenName": 16,
    "lenType": 16,
    "lenVar": 40
   },
   "kernels_config": {
    "python": {
     "delete_cmd_postfix": "",
     "delete_cmd_prefix": "del ",
     "library": "var_list.py",
     "varRefreshCmd": "print(var_dic_list())"
    },
    "r": {
     "delete_cmd_postfix": ") ",
     "delete_cmd_prefix": "rm(",
     "library": "var_list.r",
     "varRefreshCmd": "cat(var_dic_list()) "
    }
   },
   "types_to_exclude": [
    "module",
    "function",
    "builtin_function_or_method",
    "instance",
    "_Feature"
   ],
   "window_display": false
  }
 },
 "nbformat": 4,
 "nbformat_minor": 5
}
