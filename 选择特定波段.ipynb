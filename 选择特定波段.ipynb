{
 "cells": [
  {
   "cell_type": "code",
   "execution_count": null,
   "id": "01c9946d",
   "metadata": {},
   "outputs": [],
   "source": [
    "// A Sentinel-2 surface reflectance image.\n",
    "var img = ee.Image('COPERNICUS/S2_SR/20210109T185751_20210109T185931_T10SEG');\n",
    "print('All band names', img.bandNames());\n",
    "\n",
    "print('Select a band by name',\n",
    "      img.select('B11').bandNames());\n",
    "\n",
    "print('Select a band by index',\n",
    "      img.select(10).bandNames());\n",
    "\n",
    "print('Select bands using a list',\n",
    "      img.select(['B11', 'B8', 'B3']).bandNames());\n",
    "\n",
    "print('Select bands by an argument series',\n",
    "      img.select('B11', 'B8', 'B3').bandNames());\n",
    "\n",
    "print('Mixing string and integer selectors is valid',\n",
    "      img.select(10, 'B8', 2).bandNames());\n",
    "\n",
    "print('Rename selected bands using two corresponding lists',\n",
    "      img.select(['B11', 'B8', 'B3'], ['SWIR1', 'NIR', 'Green']).bandNames());\n",
    "\n",
    "// Use regular expressions to select bands.\n",
    "print('Match \"QA\" followed by any two characters',\n",
    "      img.select('QA..').bandNames());\n",
    "\n",
    "print('Match \"B\" followed by any character, any number of times',\n",
    "      img.select('B.*').bandNames());\n",
    "\n",
    "print('Match \"B\" followed by any character, and any optional third character',\n",
    "      img.select('B..?').bandNames());\n",
    "\n",
    "print('Match \"B\" followed by a character in the range 6-8',\n",
    "      img.select('B[6-8]').bandNames());\n",
    "\n",
    "print('Match \"B\" followed by a character in the range 1-9 and then 1-2',\n",
    "      img.select('B[1-9][1-2]').bandNames());\n",
    "\n",
    "print('Match \"B\" or \"QA\" each followed by any character, any number of times.',\n",
    "      img.select('B.*|QA.*').bandNames());"
   ]
  }
 ],
 "metadata": {
  "kernelspec": {
   "display_name": "Python 3 (ipykernel)",
   "language": "python",
   "name": "python3"
  },
  "language_info": {
   "codemirror_mode": {
    "name": "ipython",
    "version": 3
   },
   "file_extension": ".py",
   "mimetype": "text/x-python",
   "name": "python",
   "nbconvert_exporter": "python",
   "pygments_lexer": "ipython3",
   "version": "3.8.13"
  }
 },
 "nbformat": 4,
 "nbformat_minor": 5
}
