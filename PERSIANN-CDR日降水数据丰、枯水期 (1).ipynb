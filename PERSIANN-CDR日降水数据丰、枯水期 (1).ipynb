{
 "cells": [
  {
   "cell_type": "code",
   "execution_count": null,
   "id": "3956caa1",
   "metadata": {},
   "outputs": [],
   "source": [
    "import geemap\n",
    "import ee\n",
    "import os\n",
    "from concurrent.futures.thread import ThreadPoolExecutor"
   ]
  },
  {
   "cell_type": "code",
   "execution_count": null,
   "id": "b7e66248",
   "metadata": {},
   "outputs": [],
   "source": [
    "Map = geemap.Map()\n",
    "Map"
   ]
  },
  {
   "cell_type": "code",
   "execution_count": null,
   "id": "867bd2e3",
   "metadata": {},
   "outputs": [],
   "source": [
    "rectangle = ee.Geometry.Rectangle([115.78, 28.37, 116.75, 29.75])  # ee.Geometry.Rectangle(minLng, minLat, maxLng, maxLat)\n",
    "roi = ee.Geometry(rectangle, None, False)\n",
    "Map.centerObject(roi,15)  # 定位到指定地点\n",
    "Map.addLayer(roi, {}, 'rectangle')"
   ]
  },
  {
   "cell_type": "code",
   "execution_count": null,
   "id": "5258bc2f",
   "metadata": {},
   "outputs": [],
   "source": [
    "file_name = r'C:/Users/小骆/Desktop/test.txt'\n",
    "file_name1 = r'C:/Users/小骆/Desktop/轮廓枯水期.txt'\n",
    "file_name2 = r'C:/Users/小骆/Desktop/轮廓PERSIANN-CDR.txt'"
   ]
  },
  {
   "cell_type": "code",
   "execution_count": null,
   "id": "d38174f3",
   "metadata": {},
   "outputs": [],
   "source": [
    "# 丰水期\n",
    "# with open(file_name, 'w') as fp:\n",
    "print('year','value', sep='\\t')\n",
    "# print('year','value', sep='\\t', file=fp)\n",
    "for year in range(1986, 2021):\n",
    "    START_DATE  = str(year) + '-06'\n",
    "    END_DATE = str(year) + '-10'\n",
    "    images = ee.ImageCollection(\"NOAA/PERSIANN-CDR\")\\\n",
    "            .filterDate(START_DATE, END_DATE)\n",
    "\n",
    "    image = images.sum()\n",
    "\n",
    "    value = image.reduceRegion(reducer=ee.Reducer.mean(), \n",
    "                                geometry=roi,\n",
    "                                scale=1000).getInfo()['precipitation']\n",
    "#     print(year, f'{value:.2f}', sep='\\t', file=fp)\n",
    "    print(year,f'{value:.2f}', sep='\\t')"
   ]
  },
  {
   "cell_type": "code",
   "execution_count": null,
   "id": "b1cd3d76",
   "metadata": {},
   "outputs": [],
   "source": [
    "# 枯水期\n",
    "# with open(file_name1, 'w') as fp:\n",
    "#     print('year','value', sep='\\t')\n",
    "#     print('year','value', sep='\\t', file=fp)\n",
    "#     for year in range(1986,2021):\n",
    "#         if year + 1 in range(1986,2022):\n",
    "#             START_DATE  = str(year) + '-11'\n",
    "#             END_DATE = str(year + 1) + '-03'\n",
    "#             images = ee.ImageCollection(\"NOAA/PERSIANN-CDR\")\\\n",
    "#                     .filterDate(START_DATE, END_DATE)\n",
    "\n",
    "#             image = images.sum()\n",
    "\n",
    "#             value = image.reduceRegion(reducer=ee.Reducer.mean(), \n",
    "#                                         geometry=roi,\n",
    "#                                         scale=1000).getInfo()['precipitation']\n",
    "#             print(year, f'{value:.2f}', sep='\\t', file=fp)\n",
    "#             print(year,f'{value:.2f}', sep='\\t')"
   ]
  },
  {
   "cell_type": "code",
   "execution_count": null,
   "id": "11cff300",
   "metadata": {},
   "outputs": [],
   "source": [
    "# with open(file_name2, 'w') as fp:\n",
    "#     print('year',  'value', sep ='\\t')\n",
    "#     print('year',  'value', sep ='\\t', file=fp)\n",
    "#     for year in range(1986, 2021):\n",
    "#         start = f'{year}'\n",
    "#         end = f'{year + 1}'\n",
    "#         images = ee.ImageCollection(\"NOAA/PERSIANN-CDR\")\\\n",
    "#                 .filterDate(start, end)\n",
    "\n",
    "#         image = images.sum()\n",
    "\n",
    "#         value = image.reduceRegion(reducer = ee.Reducer.mean(), \n",
    "#                                     geometry = roi,\n",
    "#                                     scale = 1000).getInfo()['precipitation']\n",
    "#         print(year,f'{value:.2f}', sep = '\\t', file = fp)\n",
    "#         print(year,f'{value:.2f}', sep = '\\t')"
   ]
  },
  {
   "cell_type": "code",
   "execution_count": null,
   "id": "c018dae6",
   "metadata": {},
   "outputs": [],
   "source": []
  }
 ],
 "metadata": {
  "kernelspec": {
   "display_name": "Python 3 (ipykernel)",
   "language": "python",
   "name": "python3"
  },
  "language_info": {
   "codemirror_mode": {
    "name": "ipython",
    "version": 3
   },
   "file_extension": ".py",
   "mimetype": "text/x-python",
   "name": "python",
   "nbconvert_exporter": "python",
   "pygments_lexer": "ipython3",
   "version": "3.8.13"
  },
  "varInspector": {
   "cols": {
    "lenName": 16,
    "lenType": 16,
    "lenVar": 40
   },
   "kernels_config": {
    "python": {
     "delete_cmd_postfix": "",
     "delete_cmd_prefix": "del ",
     "library": "var_list.py",
     "varRefreshCmd": "print(var_dic_list())"
    },
    "r": {
     "delete_cmd_postfix": ") ",
     "delete_cmd_prefix": "rm(",
     "library": "var_list.r",
     "varRefreshCmd": "cat(var_dic_list()) "
    }
   },
   "types_to_exclude": [
    "module",
    "function",
    "builtin_function_or_method",
    "instance",
    "_Feature"
   ],
   "window_display": false
  }
 },
 "nbformat": 4,
 "nbformat_minor": 5
}
