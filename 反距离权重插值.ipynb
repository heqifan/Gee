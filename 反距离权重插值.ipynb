{
 "cells": [
  {
   "cell_type": "code",
   "execution_count": null,
   "id": "e6dbc222",
   "metadata": {},
   "outputs": [],
   "source": [
    "import ee\n",
    "import geemap\n",
    "\n",
    "Map = geemap.Map()\n",
    "\n",
    "#IDW Demo\n",
    "point = ee.FeatureCollection([\n",
    " ee.Feature(ee.Geometry.Point(116.478112,    39.647680), {'value': 15.98}),\n",
    " ee.Feature(ee.Geometry.Point(116.439615,    39.651196), {'value': 57.15}),\n",
    " ee.Feature(ee.Geometry.Point(116.405094,    39.656615), {'value': 63.94}),\n",
    " ee.Feature(ee.Geometry.Point(116.402833,    39.678339), {'value': 26.56})\n",
    "])\n",
    "\n",
    "# get mean\n",
    "mean_value = point.reduceColumns({\n",
    " 'reducer': 'mean',\n",
    " 'selectors': ['value']\n",
    "})\n",
    "\n",
    "# get stdev\n",
    "sd_value = point.reduceColumns({\n",
    " 'reducer': 'stdDev',\n",
    " 'selectors': ['value']\n",
    "})\n",
    "\n",
    "# interpolation, valid to 10 kilometers.\n",
    "area = point.inverseDistance({\n",
    " 'range': 10000,\n",
    " 'propertyName': 'value',\n",
    " 'mean': mean_value.get('mean'),\n",
    " 'stdDev': sd_value.get('stdDev'),\n",
    "})\n",
    "\n",
    "viz = {'min':0, 'max':80, 'palette':'ff0000,00ff00,0000ff,ffff00'}\n",
    "Map.centerObject(point,10)\n",
    "Map.addLayer(area,viz,\"area\")\n",
    "Map.addLayer(point,{},\"point\")\n",
    "Map\n"
   ]
  }
 ],
 "metadata": {
  "kernelspec": {
   "display_name": "Python 3 (ipykernel)",
   "language": "python",
   "name": "python3"
  },
  "language_info": {
   "codemirror_mode": {
    "name": "ipython",
    "version": 3
   },
   "file_extension": ".py",
   "mimetype": "text/x-python",
   "name": "python",
   "nbconvert_exporter": "python",
   "pygments_lexer": "ipython3",
   "version": "3.8.13"
  }
 },
 "nbformat": 4,
 "nbformat_minor": 5
}
