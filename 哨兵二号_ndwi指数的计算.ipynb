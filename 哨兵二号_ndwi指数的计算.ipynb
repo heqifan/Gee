{
 "cells": [
  {
   "cell_type": "code",
   "execution_count": null,
   "id": "315aaf6a",
   "metadata": {},
   "outputs": [],
   "source": [
    "import ee\n",
    "import geemap\n",
    "\n",
    "Map = geemap.Map()\n",
    "\n",
    "   return image.addBands(ndwi).updateMask(mask)\n",
    "})\n",
    "chart1 = ui.Chart.image.series({\n",
    " 'imageCollection': ndwi_list.select('NDWI'),\n",
    " 'region': roi,\n",
    " 'reducer': ee.Reducer.mean(),\n",
    " 'scale': 30\n",
    "}).setOptions({'title': 'NDWI IMAGE SERIES'})\n",
    "print(chart1)\n",
    "\n",
    "chart2 = ui.Chart.image.doySeries({\n",
    " 'imageCollection': ndwi_list.select('NDWI'),\n",
    " 'region':roi,\n",
    " 'regionReducer': ee.Reducer.mean(),\n",
    " 'scale':30\n",
    "}).setOptions({'title': \"ROI NDWI EACH DAY SERIES\"})\n",
    "print(chart2)\n",
    "Map"
   ]
  }
 ],
 "metadata": {
  "kernelspec": {
   "display_name": "Python 3 (ipykernel)",
   "language": "python",
   "name": "python3"
  },
  "language_info": {
   "codemirror_mode": {
    "name": "ipython",
    "version": 3
   },
   "file_extension": ".py",
   "mimetype": "text/x-python",
   "name": "python",
   "nbconvert_exporter": "python",
   "pygments_lexer": "ipython3",
   "version": "3.8.13"
  }
 },
 "nbformat": 4,
 "nbformat_minor": 5
}
