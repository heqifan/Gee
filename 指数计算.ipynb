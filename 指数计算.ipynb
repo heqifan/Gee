{
 "cells": [
  {
   "cell_type": "code",
   "execution_count": null,
   "id": "a427b662",
   "metadata": {},
   "outputs": [],
   "source": [
    "'''NDVI'''\n",
    "NDVI = (近红外波段 - 红波段) / (近红外波段 + 红波段)\n",
    "\n",
    "Landsat8: NDVI = (band5 - band4) / (band5 + band4)\n",
    "Sentinel2: NDVI = (band8 - band4) / (band8 + band4)\n",
    "Modis: NDVI = (band2 - band1) / (band2 + band1)\n",
    "ETM/TM: NDVI = (band4 - band3) / (band4 + band3)\n",
    "AVHRR: NDVI = (CH2 - CH1) / (CH2 + CH1)"
   ]
  },
  {
   "cell_type": "code",
   "execution_count": null,
   "id": "51b3491c",
   "metadata": {},
   "outputs": [],
   "source": [
    "'''NDWI'''\n",
    "NDWI = (绿波段 - 近红外波段) / (绿波段 + 近红外波段)\n",
    "\n",
    "landsat8: NDWI = (band3 - band5) / (band3 + band5)\n",
    "landsat5/7: NDWI = (band2 - band4) / (band2 + band4)\n",
    "sentinel2: NDWI = (band3 - band8) / (band3 + band8)\n"
   ]
  },
  {
   "cell_type": "code",
   "execution_count": null,
   "id": "100cf567",
   "metadata": {},
   "outputs": [],
   "source": []
  }
 ],
 "metadata": {
  "kernelspec": {
   "display_name": "Python 3 (ipykernel)",
   "language": "python",
   "name": "python3"
  },
  "language_info": {
   "codemirror_mode": {
    "name": "ipython",
    "version": 3
   },
   "file_extension": ".py",
   "mimetype": "text/x-python",
   "name": "python",
   "nbconvert_exporter": "python",
   "pygments_lexer": "ipython3",
   "version": "3.9.7"
  }
 },
 "nbformat": 4,
 "nbformat_minor": 5
}
